{
 "cells": [
  {
   "cell_type": "markdown",
   "id": "d31846c7",
   "metadata": {},
   "source": [
    "databricks notebook6: create Time dimension table"
   ]
  },
  {
   "cell_type": "code",
   "execution_count": null,
   "id": "a9438da7",
   "metadata": {},
   "outputs": [],
   "source": [
    "from pyspark.sql.functions import monotonically_increasing_id, year, month, dayofmonth, date_format, to_date"
   ]
  },
  {
   "cell_type": "code",
   "execution_count": null,
   "id": "58cad22d",
   "metadata": {},
   "outputs": [],
   "source": [
    "# Load Silver trip data\n",
    "trip_silver_path = \"abfss://trip-data@<your-storage-account>.dfs.core.windows.net/silver/trip_transactions\"\n",
    "trip_df = spark.read.format(\"delta\").load(trip_silver_path)"
   ]
  },
  {
   "cell_type": "code",
   "execution_count": null,
   "id": "79de0468",
   "metadata": {},
   "outputs": [],
   "source": [
    "# Extract TripDate from start and end timestamps\n",
    "start_dates = trip_df.select(to_date(\"trip_start_timestamp\").alias(\"TripDate\")).dropna()\n",
    "end_dates = trip_df.select(to_date(\"trip_end_timestamp\").alias(\"TripDate\")).dropna()"
   ]
  },
  {
   "cell_type": "code",
   "execution_count": null,
   "id": "7c7ad948",
   "metadata": {},
   "outputs": [],
   "source": [
    "# Combine and remove duplicate dates\n",
    "dim_date = start_dates.union(end_dates).dropDuplicates([\"TripDate\"])"
   ]
  },
  {
   "cell_type": "code",
   "execution_count": null,
   "id": "de29ff0c",
   "metadata": {},
   "outputs": [],
   "source": [
    "# Enrich with date components\n",
    "dim_date = dim_date.withColumn(\"KeydateID\", monotonically_increasing_id()) \\\n",
    "    .withColumn(\"Year\", year(\"TripDate\")) \\\n",
    "    .withColumn(\"Month\", month(\"TripDate\")) \\\n",
    "    .withColumn(\"Day\", dayofmonth(\"TripDate\")) \\\n",
    "    .withColumn(\"Weekday\", date_format(\"TripDate\", \"E\"))"
   ]
  },
  {
   "cell_type": "code",
   "execution_count": null,
   "id": "1e927123",
   "metadata": {},
   "outputs": [],
   "source": [
    "# Reorder columns\n",
    "dim_date = dim_date.select(\"KeydateID\", \"TripDate\", \"Year\", \"Month\", \"Day\", \"Weekday\")"
   ]
  },
  {
   "cell_type": "code",
   "execution_count": null,
   "id": "88807bc1",
   "metadata": {},
   "outputs": [],
   "source": [
    "# Save to Silver layer\n",
    "dim_date.write.format(\"delta\").mode(\"overwrite\").save(\"abfss://trip-data@<your-storage-account>.dfs.core.windows.net/silver/dim_date\")"
   ]
  }
 ],
 "metadata": {
  "kernelspec": {
   "display_name": "Python 3",
   "language": "python",
   "name": "python3"
  },
  "language_info": {
   "name": "python",
   "version": "3.11.9"
  }
 },
 "nbformat": 4,
 "nbformat_minor": 5
}
