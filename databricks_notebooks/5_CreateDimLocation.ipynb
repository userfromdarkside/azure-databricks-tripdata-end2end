{
 "cells": [
  {
   "cell_type": "markdown",
   "id": "3d7ca14c",
   "metadata": {},
   "source": [
    "databricks notebook5: create Location dimention table"
   ]
  },
  {
   "cell_type": "code",
   "execution_count": null,
   "id": "f7c11ad2",
   "metadata": {},
   "outputs": [],
   "source": [
    "from pyspark.sql.functions import monotonically_increasing_id, lit"
   ]
  },
  {
   "cell_type": "code",
   "execution_count": null,
   "id": "e087cd18",
   "metadata": {},
   "outputs": [],
   "source": [
    "# trip silver path\n",
    "path = \"abfss://trip-data@<your-storage-account>.dfs.core.windows.net/silver/trip_transactions\"\n",
    "trip_df = spark.read.format('delta').load(path)"
   ]
  },
  {
   "cell_type": "code",
   "execution_count": null,
   "id": "0b8cefac",
   "metadata": {},
   "outputs": [],
   "source": [
    "# extract pickup location data\n",
    "pickup_df = trip_df.select(\n",
    "     trip_df.source_location_address1.alias(\"address\"),\n",
    "    trip_df.source_city.alias(\"city\"),\n",
    "    trip_df.source_province_state.alias(\"province_state\"),\n",
    "    trip_df.source_country.alias(\"country\")\n",
    ").withColumn('location_type',lit('pickup'))"
   ]
  },
  {
   "cell_type": "code",
   "execution_count": null,
   "id": "c06934d3",
   "metadata": {},
   "outputs": [],
   "source": [
    "dropoff_df = trip_df.select(\n",
    "    trip_df.destination_location_address1.alias(\"address\"),\n",
    "    trip_df.destination_city.alias(\"city\"),\n",
    "    trip_df.destination_province_state.alias(\"province_state\"),\n",
    "    trip_df.destination_country.alias(\"country\")\n",
    ").withColumn('location_type',lit('dropoff'))"
   ]
  },
  {
   "cell_type": "code",
   "execution_count": null,
   "id": "1eb94e22",
   "metadata": {},
   "outputs": [],
   "source": [
    "# union them\n",
    "location_df = pickup_df.union(dropoff_df).dropDuplicates(['address','city','province_state',\n",
    "                                                          'country','location_type'])"
   ]
  },
  {
   "cell_type": "code",
   "execution_count": null,
   "id": "272ea84d",
   "metadata": {},
   "outputs": [],
   "source": [
    "# Add surrogate LocationID\n",
    "dim_location = location_df.withColumn(\"KeylocationID\", monotonically_increasing_id())"
   ]
  },
  {
   "cell_type": "code",
   "execution_count": null,
   "id": "8029050a",
   "metadata": {},
   "outputs": [],
   "source": [
    "# reorder columns\n",
    "dim_location = dim_location.select('KeylocationID','address','city','province_state',\n",
    "                                                          'country','location_type')"
   ]
  },
  {
   "cell_type": "code",
   "execution_count": null,
   "id": "be087728",
   "metadata": {},
   "outputs": [],
   "source": [
    "# save to silver layer\n",
    "dim_location.write.format(\"delta\").mode(\"overwrite\").save(\"abfss://trip-data@<your-storage-account>.dfs.core.windows.net/silver/dim_location\")"
   ]
  }
 ],
 "metadata": {
  "kernelspec": {
   "display_name": "Python 3",
   "language": "python",
   "name": "python3"
  },
  "language_info": {
   "codemirror_mode": {
    "name": "ipython",
    "version": 3
   },
   "file_extension": ".py",
   "mimetype": "text/x-python",
   "name": "python",
   "nbconvert_exporter": "python",
   "pygments_lexer": "ipython3",
   "version": "3.11.9"
  }
 },
 "nbformat": 4,
 "nbformat_minor": 5
}
