{
 "cells": [
  {
   "cell_type": "markdown",
   "id": "500a2a71",
   "metadata": {},
   "source": [
    "databricks notebook7: create Trip fact table"
   ]
  },
  {
   "cell_type": "code",
   "execution_count": null,
   "id": "20406a52",
   "metadata": {},
   "outputs": [],
   "source": [
    "from pyspark.sql.functions import to_date"
   ]
  },
  {
   "cell_type": "code",
   "execution_count": null,
   "id": "6e4aefcb",
   "metadata": {},
   "outputs": [],
   "source": [
    "trip_df = spark.read.format('delta').load('abfss://trip-data@<your-storage-account>.dfs.core.windows.net/silver/trip_transactions') \\\n",
    "    .withColumn('StartDate',to_date('trip_start_timestamp')) \\\n",
    "    .withColumn('EndDate', to_date('trip_end_timestamp'))"
   ]
  },
  {
   "cell_type": "code",
   "execution_count": null,
   "id": "3c3edf65",
   "metadata": {},
   "outputs": [],
   "source": [
    "rating_df = spark.read.format('delta').load('abfss://trip-data@<your-storage-account>.dfs.core.windows.net/silver/trip_transactions')"
   ]
  },
  {
   "cell_type": "code",
   "execution_count": null,
   "id": "8fac0aa1",
   "metadata": {},
   "outputs": [],
   "source": [
    "# register them to temporary views\n",
    "trip_df.createOrReplaceTempView('trip_view')\n",
    "rating_df.createOrReplaceTempView('rating_view')\n",
    "spark.read.format(\"delta\").load(\"abfss://trip-data@<your-storage-account>.dfs.core.windows.net/silver/dim_customer\").createOrReplaceTempView(\"dim_customer\")\n",
    "spark.read.format(\"delta\").load(\"abfss://trip-data@<your-storage-account>.dfs.core.windows.net/silver/dim_driver\").createOrReplaceTempView(\"dim_driver\")\n",
    "spark.read.format(\"delta\").load(\"abfss://trip-data@<your-storage-account>.dfs.core.windows.net/silver/dim_location\").createOrReplaceTempView(\"dim_location\")\n",
    "spark.read.format(\"delta\").load(\"abfss://trip-data@<your-storage-account>.dfs.core.windows.net/silver/dim_date\").createOrReplaceTempView(\"dim_date\")"
   ]
  },
  {
   "cell_type": "code",
   "execution_count": null,
   "id": "b7fe329d",
   "metadata": {
    "vscode": {
     "languageId": "sql"
    }
   },
   "outputs": [],
   "source": [
    "%sql\n",
    "select * from trip_view limit 10"
   ]
  },
  {
   "cell_type": "code",
   "execution_count": null,
   "id": "ef6f926b",
   "metadata": {
    "vscode": {
     "languageId": "sql"
    }
   },
   "outputs": [],
   "source": [
    "# build fact table\n",
    "%sql\n",
    "\n",
    "create or replace table fact_trip as select \n",
    "    t.trip_id,\n",
    "    c.KeycustomerID,\n",
    "    d.KeydriverID,\n",
    "    p.KeylocationID as PickUpLocationID,\n",
    "    q.KeylocationID as DropOffLocationID,\n",
    "    sd.KeydateID as StartDateID,\n",
    "    ed.KeydateID as EndDateID,\n",
    "    t.total_distance,\n",
    "    t.total_fare,\n",
    "    t.delay_start_time_mins as delay_mins,\n",
    "    r.customer_ratings,\n",
    "    r.driver_ratings\n",
    "from trip_view t \n",
    "left join dim_customer c on t.customerID = c.customerID\n",
    "left join dim_driver d on t.driverID = d.driverID\n",
    "left join dim_location p on t.source_location_addtress1 = p.addtress\n",
    "                        and t.source_city = p.city \n",
    "                        and t.source_country = p.country \n",
    "                        and p.location_type = 'pickup'\n",
    "left join dim_location q on t.destination_location_addtress1 = q.addtress \n",
    "                        and t.destination_city = q.city \n",
    "                        and t.destination_country = q.country \n",
    "                        and q.location_type = 'dropoff'\n",
    "left join dim_date sd on t.StartDate = sd.Date \n",
    "                    and t.EndDate = sd.Date \n",
    "left join rating_view r on t.trip_id = r.trip_id \n",
    "                        and t.customer_id = r.customer_id\n",
    "                        and t.driver_id = r.driver_id "
   ]
  }
 ],
 "metadata": {
  "language_info": {
   "name": "python"
  }
 },
 "nbformat": 4,
 "nbformat_minor": 5
}
