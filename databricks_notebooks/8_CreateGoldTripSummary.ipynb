{
 "cells": [
  {
   "cell_type": "markdown",
   "id": "cc8741bb",
   "metadata": {},
   "source": [
    "databricks notebook8: create a Summary table for business decision-makings"
   ]
  },
  {
   "cell_type": "code",
   "execution_count": null,
   "id": "105f1b47",
   "metadata": {
    "vscode": {
     "languageId": "sql"
    }
   },
   "outputs": [],
   "source": [
    "%sql\n",
    "---create or replace a gold table(monthly city KPIS)\n",
    "\n",
    "create or replace table gold.monthly_city_KPIS as\n",
    "select\n",
    "    l.city,\n",
    "    d.Year,\n",
    "    d.Month, \n",
    "    count(f.trip_id) as total_trips,\n",
    "    sum(f.total_fare) as total_revenue,\n",
    "    round(avg(f.customer_ratings),2) as avg_customer_rating,\n",
    "    round(avg(f.driver_ratings),2) as avg_driver_ratings,\n",
    "    round(avg(f.delay_mins),1) as avg_delay_mins,\n",
    "    concat(d.Year, '-', LPAD(d.Month, 2, '0')) AS month_label\n",
    "from silver.fact_trip f\n",
    "left join silver.dim_location l on f.PickUpLocationID = l.KeylocationID\n",
    "left join silver.dim_date d on f.StartDateID = d.KeydateID\n",
    "group by l.city, d.Year, d.Month;\n"
   ]
  }
 ],
 "metadata": {
  "language_info": {
   "name": "python"
  }
 },
 "nbformat": 4,
 "nbformat_minor": 5
}
