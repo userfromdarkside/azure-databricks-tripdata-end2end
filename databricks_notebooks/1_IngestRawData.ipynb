{
 "cells": [
  {
   "cell_type": "markdown",
   "id": "6cf13c85",
   "metadata": {},
   "source": [
    "# Ingest data from ADLS Gen2"
   ]
  },
  {
   "cell_type": "code",
   "execution_count": null,
   "id": "aa97ca0e",
   "metadata": {},
   "outputs": [],
   "source": [
    "# load trip transaction file\n",
    "trip_df = spark.read.csv(\n",
    "    \"/mnt/tripdata/bronze/trip_transactions/Trip_Transaction_Table.csv\",\n",
    "    header=True,\n",
    "    inferSchema=True\n",
    ")"
   ]
  },
  {
   "cell_type": "code",
   "execution_count": null,
   "id": "8b9c6765",
   "metadata": {},
   "outputs": [],
   "source": [
    "display('trip_df')"
   ]
  },
  {
   "cell_type": "code",
   "execution_count": null,
   "id": "b3e0d93f",
   "metadata": {},
   "outputs": [],
   "source": [
    "# load ride rating file\n",
    "rating_df = spark.read.csv(\n",
    "    \"/mnt/tripdata/bronze/ride_ratings/Ride_Rating_Table.csv\",\n",
    "    header=True,\n",
    "    inferSchema=True\n",
    ")"
   ]
  },
  {
   "cell_type": "code",
   "execution_count": null,
   "id": "15e68dcf",
   "metadata": {},
   "outputs": [],
   "source": [
    "display('rating_df')"
   ]
  }
 ],
 "metadata": {
  "kernelspec": {
   "display_name": "Python 3",
   "language": "python",
   "name": "python3"
  },
  "language_info": {
   "codemirror_mode": {
    "name": "ipython",
    "version": 3
   },
   "file_extension": ".py",
   "mimetype": "text/x-python",
   "name": "python",
   "nbconvert_exporter": "python",
   "pygments_lexer": "ipython3",
   "version": "3.11.9"
  }
 },
 "nbformat": 4,
 "nbformat_minor": 5
}
