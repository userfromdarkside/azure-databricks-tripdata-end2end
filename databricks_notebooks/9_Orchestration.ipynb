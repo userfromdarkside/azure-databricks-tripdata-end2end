{
 "cells": [
  {
   "cell_type": "markdown",
   "id": "66882f7f",
   "metadata": {},
   "source": [
    "databricks Orchestration notebook"
   ]
  },
  {
   "cell_type": "code",
   "execution_count": null,
   "id": "740db691",
   "metadata": {},
   "outputs": [],
   "source": [
    "from pyspark.sql.utils import AnalysisException"
   ]
  },
  {
   "cell_type": "code",
   "execution_count": null,
   "id": "3f621f8c",
   "metadata": {},
   "outputs": [],
   "source": [
    "notebooks = [\n",
    "    \"/notebooks/3_create_dim_rider\",\n",
    "    \"/notebooks/4_create_dim_driver\",\n",
    "    \"/notebooks/5_create_dim_location\",\n",
    "    \"/notebooks/6_create_dim_date\",\n",
    "    \"/notebooks/7_create_fact_trip\",\n",
    "    '/notebooks/8_create_gold_trip_summary',\n",
    "    'abfss://trip-data@<your-storage-account>.dfs.core.windows.net/gold/monthly_city_kpis'\n",
    "]"
   ]
  },
  {
   "cell_type": "code",
   "execution_count": null,
   "id": "8ec08bc2",
   "metadata": {},
   "outputs": [],
   "source": [
    "from spark.sql import SparkSession\n",
    "spark = SparkSession.builder.getOrCreate()"
   ]
  },
  {
   "cell_type": "code",
   "execution_count": null,
   "id": "858d2fd9",
   "metadata": {},
   "outputs": [],
   "source": [
    "def delta_tables_exist(path):\n",
    "    try:\n",
    "        spark.read.format('delta').load(path).limit(1)\n",
    "        return True\n",
    "    except AnalysisException:\n",
    "        return False"
   ]
  },
  {
   "cell_type": "code",
   "execution_count": null,
   "id": "b3cced83",
   "metadata": {},
   "outputs": [],
   "source": [
    "# paths for the above function's testing (corresponding)\n",
    "output_paths = [\n",
    "    \"abfss://trip-data@<your-storage-account>.dfs.core.windows.net/silver/dim_rider\",\n",
    "    \"abfss://trip-data@<your-storage-account>.dfs.core.windows.net/silver/dim_driver\",\n",
    "    \"abfss://trip-data@<your-storage-account>.dfs.core.windows.net/silver/dim_location\",\n",
    "    \"abfss://trip-data@<your-storage-account>.dfs.core.windows.net/silver/dim_date\",\n",
    "    \"abfss://trip-data@<your-storage-account>.dfs.core.windows.net/silver/fact_trip\"\n",
    "]"
   ]
  },
  {
   "cell_type": "code",
   "execution_count": null,
   "id": "173c371d",
   "metadata": {},
   "outputs": [],
   "source": [
    "# loop through and execute each notebook\n",
    "\n",
    "force_rerun = False\n",
    "\n",
    "for i in range(len(notebooks)):\n",
    "    nb_path = notebooks[i]\n",
    "    out_path = output_paths[i]\n",
    "    print(f'---Starting: {nb_path}---')\n",
    "\n",
    "    # skip if outputs exist\n",
    "    if not force_rerun and delta_tables_exist(out_path):\n",
    "        print(f'---Skip(already exists): {out_path}---')\n",
    "        continue\n",
    "    try:\n",
    "        result = dbutils.notebook.run(nb_path,timeout_seconds = 500)\n",
    "        print(f'---Notebook {nb_path} runs success \\n {result}')\n",
    "    except Exception as e\n",
    "    print(f'---Run failed: {nb_path} \\n Errors: {str(e)}')\n",
    "    raise e"
   ]
  }
 ],
 "metadata": {
  "language_info": {
   "name": "python"
  }
 },
 "nbformat": 4,
 "nbformat_minor": 5
}
