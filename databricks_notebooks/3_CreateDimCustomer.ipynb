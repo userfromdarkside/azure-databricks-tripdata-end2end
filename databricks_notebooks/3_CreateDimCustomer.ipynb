{
 "cells": [
  {
   "cell_type": "markdown",
   "id": "8c60039d",
   "metadata": {},
   "source": [
    "databricks notebook3: create Customer dimension table"
   ]
  },
  {
   "cell_type": "code",
   "execution_count": null,
   "id": "b21f82a2",
   "metadata": {},
   "outputs": [],
   "source": [
    "from pyspark.sql.functions import monotonically_increasing_id"
   ]
  },
  {
   "cell_type": "code",
   "execution_count": null,
   "id": "c4b8682c",
   "metadata": {},
   "outputs": [],
   "source": [
    "delta_trip_path = \"abfss://trip-data@<your-storage-account>.dfs.core.windows.net/silver/trip_transactions\""
   ]
  },
  {
   "cell_type": "code",
   "execution_count": null,
   "id": "59a77713",
   "metadata": {},
   "outputs": [],
   "source": [
    "# read data to dataframe\n",
    "trip_df = spark.read.format('delta').load(delta_trip_path)"
   ]
  },
  {
   "cell_type": "code",
   "execution_count": null,
   "id": "328f668d",
   "metadata": {},
   "outputs": [],
   "source": [
    "# extract rider(customer) data \n",
    "customer_df = trip_df.select('customer_id','customer_name',\n",
    "                             'payment_method','payment_status','total_fare').dropDuplicates(['customer_id']) "
   ]
  },
  {
   "cell_type": "code",
   "execution_count": null,
   "id": "38600ef3",
   "metadata": {},
   "outputs": [],
   "source": [
    "# create Customer dimension dataframe, and generate a new customerID surrogate key column\n",
    "dim_customer = customer_df.withColumn('KeycustomerID',monotonically_increasing_id())\n",
    "\n",
    "# reorder columns\n",
    "dim_customer = dim_customer.select('KeycustomerID','customer_id','customer_name',\n",
    "                             'payment_method','payment_status','total_fare')"
   ]
  },
  {
   "cell_type": "code",
   "execution_count": null,
   "id": "be59dc09",
   "metadata": {},
   "outputs": [],
   "source": [
    "# write data to silver layer\n",
    "dim_customer.write.format('delta').mode('overwrite').save(\"abfss://trip-data@<your-storage-account>.dfs.core.windows.net/silver/dim_customerd5\" \\\n",
    "\"\")"
   ]
  }
 ],
 "metadata": {
  "kernelspec": {
   "display_name": "Python 3",
   "language": "python",
   "name": "python3"
  },
  "language_info": {
   "codemirror_mode": {
    "name": "ipython",
    "version": 3
   },
   "file_extension": ".py",
   "mimetype": "text/x-python",
   "name": "python",
   "nbconvert_exporter": "python",
   "pygments_lexer": "ipython3",
   "version": "3.11.9"
  }
 },
 "nbformat": 4,
 "nbformat_minor": 5
}
