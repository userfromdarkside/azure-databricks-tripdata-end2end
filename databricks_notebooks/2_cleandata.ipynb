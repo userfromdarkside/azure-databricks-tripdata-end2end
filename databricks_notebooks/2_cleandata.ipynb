{
 "cells": [
  {
   "cell_type": "markdown",
   "id": "12c563cc",
   "metadata": {},
   "source": [
    "databricks notebook2: clean raw data"
   ]
  },
  {
   "cell_type": "code",
   "execution_count": null,
   "id": "cdc82049",
   "metadata": {},
   "outputs": [],
   "source": [
    "from pyspark.sql.functions import col"
   ]
  },
  {
   "cell_type": "code",
   "execution_count": null,
   "id": "de0c4f2b",
   "metadata": {},
   "outputs": [],
   "source": [
    "# define Gen2 paths\n",
    "trip_csv_path = \"abfss://trip-data@<your-storage-account>.dfs.core.windows.net/bronze/trip_transactions/Trip_Transaction_Table.csv\"\n",
    "rating_csv_path = \"abfss://trip-data@<your-storage-account>.dfs.core.windows.net/bronze/ride_ratings/Ride_Rating_Table.csv\""
   ]
  },
  {
   "cell_type": "code",
   "execution_count": null,
   "id": "ed85016a",
   "metadata": {},
   "outputs": [],
   "source": [
    "# read raw data\n",
    "trip_df = spark.read.csv(\n",
    "    trip_csv_path,\n",
    "    header=True,\n",
    "    inferSchema=True\n",
    ")"
   ]
  },
  {
   "cell_type": "code",
   "execution_count": null,
   "id": "2b65d640",
   "metadata": {},
   "outputs": [],
   "source": [
    "rating_df =spark.read.csv(\n",
    "    rating_csv_path,\n",
    "    header=True,\n",
    "    inferSchema=True\n",
    ")"
   ]
  },
  {
   "cell_type": "code",
   "execution_count": null,
   "id": "5930a92d",
   "metadata": {},
   "outputs": [],
   "source": [
    "# clean trip data\n",
    "trip_df_cleaned = trip_df.filter(col(\"trip_id\").isNotNull()) \\\n",
    "    .withColumn(\"trip_start_timestamp\", to_timestamp(\"trip_start_timestamp\")) \\\n",
    "    .withColumn(\"trip_end_timestamp\", to_timestamp(\"trip_end_timestamp\")) \\\n",
    "    .withColumn(\"total_distance\", col(\"total_distance\").cast(\"double\")) \\\n",
    "    .withColumn(\"total_fare\", col(\"total_fare\").cast(\"double\")) \\\n",
    "    .withColumn(\"delay_start_time_mins\", col(\"delay_start_time_mins\").cast(\"int\"))"
   ]
  },
  {
   "cell_type": "code",
   "execution_count": null,
   "id": "4097b864",
   "metadata": {},
   "outputs": [],
   "source": [
    "# clean rating data\n",
    "rating_df_cleaned = rating_df \\\n",
    "    .filter(col('trip_id').isNotNull()) \\\n",
    "    .withColumn('customer_rating',col('customer_rating').cast('int')) \\\n",
    "    .withColumn('driver_rating',col('driver_rating').cast('int'))"
   ]
  },
  {
   "cell_type": "code",
   "execution_count": null,
   "id": "fde65148",
   "metadata": {},
   "outputs": [],
   "source": [
    "# define delta path for cleaned files\n",
    "path1 = \"abfss://trip-data@<your-storage-account>.dfs.core.windows.net/silver/trip_transactions\"\n",
    "path2 = \"abfss://trip-data@<your-storage-account>.dfs.core.windows.net/silver/ride_ratings\""
   ]
  },
  {
   "cell_type": "code",
   "execution_count": null,
   "id": "541b7e99",
   "metadata": {},
   "outputs": [],
   "source": [
    "# write data to delta tables\n",
    "trip_df_cleaned.write.format('delta').mode('overwrite').save(path1)\n",
    "rating_df_cleaned.write.format('delta').mode('overwrite').save(path2)"
   ]
  }
 ],
 "metadata": {
  "language_info": {
   "name": "python"
  }
 },
 "nbformat": 4,
 "nbformat_minor": 5
}
